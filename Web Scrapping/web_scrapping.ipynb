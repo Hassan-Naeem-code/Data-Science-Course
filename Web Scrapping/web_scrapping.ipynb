{
 "cells": [
  {
   "cell_type": "code",
   "execution_count": 18,
   "id": "48a86235",
   "metadata": {},
   "outputs": [
    {
     "data": {
      "text/plain": [
       "200"
      ]
     },
     "execution_count": 18,
     "metadata": {},
     "output_type": "execute_result"
    }
   ],
   "source": [
    "import requests\n",
    "from bs4 import BeautifulSoup\n",
    "import pandas\n",
    "\n",
    "page = requests.get(\"https://en.wikipedia.org/wiki/Web_scraping\")\n",
    "page.status_code"
   ]
  },
  {
   "cell_type": "code",
   "execution_count": 14,
   "id": "47cfdf13",
   "metadata": {},
   "outputs": [
    {
     "name": "stdout",
     "output_type": "stream",
     "text": [
      "headingH1Tag <h1 class=\"firstHeading mw-first-heading\" id=\"firstHeading\">Web scraping</h1>\n",
      "headingH2Tag <h2 id=\"mw-toc-heading\">Contents</h2>\n",
      "paragraphTag <p><b>Web scraping</b>, <b>web harvesting</b>, or <b>web data extraction</b> is <a href=\"/wiki/Data_scraping\" title=\"Data scraping\">data scraping</a> used for <a href=\"/wiki/Data_extraction\" title=\"Data extraction\">extracting data</a> from <a href=\"/wiki/Website\" title=\"Website\">websites</a>. The web scraping software may directly access the <a href=\"/wiki/World_Wide_Web\" title=\"World Wide Web\">World Wide Web</a> using the <a href=\"/wiki/Hypertext_Transfer_Protocol\" title=\"Hypertext Transfer Protocol\">Hypertext Transfer Protocol</a> or a web browser. While web scraping can be done manually by a software user, the term typically refers to automated processes implemented using a <a href=\"/wiki/Internet_bot\" title=\"Internet bot\">bot</a> or <a href=\"/wiki/Web_crawler\" title=\"Web crawler\">web crawler</a>. It is a form of copying in which specific data is gathered and copied from the web, typically into a central local <a href=\"/wiki/Database\" title=\"Database\">database</a> or spreadsheet, for later <a href=\"/wiki/Data_retrieval\" title=\"Data retrieval\">retrieval</a> or <a href=\"/wiki/Data_analysis\" title=\"Data analysis\">analysis</a>.\n",
      "</p>\n",
      "anchorTag <a id=\"top\"></a>\n",
      "divTag <div class=\"noprint\" id=\"mw-page-base\"></div>\n",
      "navTag <nav aria-labelledby=\"p-personal-label\" class=\"mw-portlet mw-portlet-personal vector-user-menu-legacy vector-menu\" id=\"p-personal\" role=\"navigation\">\n",
      "<label aria-label=\"\" class=\"vector-menu-heading\" id=\"p-personal-label\">\n",
      "<span class=\"vector-menu-heading-label\">Personal tools</span>\n",
      "</label>\n",
      "<div class=\"vector-menu-content\">\n",
      "<ul class=\"vector-menu-content-list\"><li class=\"mw-list-item\" id=\"pt-anonuserpage\"><span title=\"The user page for the IP address you are editing as\">Not logged in</span></li><li class=\"mw-list-item\" id=\"pt-anontalk\"><a accesskey=\"n\" href=\"/wiki/Special:MyTalk\" title=\"Discussion about edits from this IP address [n]\"><span>Talk</span></a></li><li class=\"mw-list-item\" id=\"pt-anoncontribs\"><a accesskey=\"y\" href=\"/wiki/Special:MyContributions\" title=\"A list of edits made from this IP address [y]\"><span>Contributions</span></a></li><li class=\"mw-list-item\" id=\"pt-createaccount\"><a href=\"/w/index.php?title=Special:CreateAccount&amp;returnto=Web+scraping\" title=\"You are encouraged to create an account and log in; however, it is not mandatory\"><span>Create account</span></a></li><li class=\"mw-list-item\" id=\"pt-login\"><a accesskey=\"o\" href=\"/w/index.php?title=Special:UserLogin&amp;returnto=Web+scraping\" title=\"You're encouraged to log in; however, it's not mandatory. [o]\"><span>Log in</span></a></li></ul>\n",
      "</div>\n",
      "</nav>\n",
      "ulTag <ul>\n",
      "<li class=\"toclevel-1 tocsection-1\"><a href=\"#History\"><span class=\"tocnumber\">1</span> <span class=\"toctext\">History</span></a></li>\n",
      "<li class=\"toclevel-1 tocsection-2\"><a href=\"#Techniques\"><span class=\"tocnumber\">2</span> <span class=\"toctext\">Techniques</span></a>\n",
      "<ul>\n",
      "<li class=\"toclevel-2 tocsection-3\"><a href=\"#Human_copy-and-paste\"><span class=\"tocnumber\">2.1</span> <span class=\"toctext\">Human copy-and-paste</span></a></li>\n",
      "<li class=\"toclevel-2 tocsection-4\"><a href=\"#Text_pattern_matching\"><span class=\"tocnumber\">2.2</span> <span class=\"toctext\">Text pattern matching</span></a></li>\n",
      "<li class=\"toclevel-2 tocsection-5\"><a href=\"#HTTP_programming\"><span class=\"tocnumber\">2.3</span> <span class=\"toctext\">HTTP programming</span></a></li>\n",
      "<li class=\"toclevel-2 tocsection-6\"><a href=\"#HTML_parsing\"><span class=\"tocnumber\">2.4</span> <span class=\"toctext\">HTML parsing</span></a></li>\n",
      "<li class=\"toclevel-2 tocsection-7\"><a href=\"#DOM_parsing\"><span class=\"tocnumber\">2.5</span> <span class=\"toctext\">DOM parsing</span></a></li>\n",
      "<li class=\"toclevel-2 tocsection-8\"><a href=\"#Vertical_aggregation\"><span class=\"tocnumber\">2.6</span> <span class=\"toctext\">Vertical aggregation</span></a></li>\n",
      "<li class=\"toclevel-2 tocsection-9\"><a href=\"#Semantic_annotation_recognizing\"><span class=\"tocnumber\">2.7</span> <span class=\"toctext\">Semantic annotation recognizing</span></a></li>\n",
      "<li class=\"toclevel-2 tocsection-10\"><a href=\"#Computer_vision_web-page_analysis\"><span class=\"tocnumber\">2.8</span> <span class=\"toctext\">Computer vision web-page analysis</span></a></li>\n",
      "</ul>\n",
      "</li>\n",
      "<li class=\"toclevel-1 tocsection-11\"><a href=\"#Software\"><span class=\"tocnumber\">3</span> <span class=\"toctext\">Software</span></a></li>\n",
      "<li class=\"toclevel-1 tocsection-12\"><a href=\"#Legal_issues\"><span class=\"tocnumber\">4</span> <span class=\"toctext\">Legal issues</span></a>\n",
      "<ul>\n",
      "<li class=\"toclevel-2 tocsection-13\"><a href=\"#United_States\"><span class=\"tocnumber\">4.1</span> <span class=\"toctext\">United States</span></a></li>\n",
      "<li class=\"toclevel-2 tocsection-14\"><a href=\"#European_Union\"><span class=\"tocnumber\">4.2</span> <span class=\"toctext\">European Union</span></a></li>\n",
      "<li class=\"toclevel-2 tocsection-15\"><a href=\"#Australia\"><span class=\"tocnumber\">4.3</span> <span class=\"toctext\">Australia</span></a></li>\n",
      "<li class=\"toclevel-2 tocsection-16\"><a href=\"#India\"><span class=\"tocnumber\">4.4</span> <span class=\"toctext\">India</span></a></li>\n",
      "</ul>\n",
      "</li>\n",
      "<li class=\"toclevel-1 tocsection-17\"><a href=\"#Methods_to_prevent_web_scraping\"><span class=\"tocnumber\">5</span> <span class=\"toctext\">Methods to prevent web scraping</span></a></li>\n",
      "<li class=\"toclevel-1 tocsection-18\"><a href=\"#See_also\"><span class=\"tocnumber\">6</span> <span class=\"toctext\">See also</span></a></li>\n",
      "<li class=\"toclevel-1 tocsection-19\"><a href=\"#References\"><span class=\"tocnumber\">7</span> <span class=\"toctext\">References</span></a></li>\n",
      "</ul>\n",
      "liTag <li class=\"toclevel-1 tocsection-1\"><a href=\"#History\"><span class=\"tocnumber\">1</span> <span class=\"toctext\">History</span></a></li>\n"
     ]
    }
   ],
   "source": [
    "soup = BeautifulSoup(page.content,\"html.parser\")\n",
    "# print(soup)\n",
    "# title = soup.find(\"h1\",id=\"firstHeading\")\n",
    "paragraphTag = soup.find(\"p\")\n",
    "headingH1Tag = soup.find(\"h1\")\n",
    "headingH2Tag = soup.find(\"h2\")\n",
    "anchorTag = soup.find(\"a\")\n",
    "divTag = soup.find(\"div\")\n",
    "navTag = soup.find(\"nav\")\n",
    "ulTag = soup.find('ul')\n",
    "liTag = soup.find('li')\n",
    "# print(\"title\",title)\n",
    "# print(\"title Text\",title.text)\n",
    "print(\"headingH1Tag\",headingH1Tag)\n",
    "print(\"headingH2Tag\",headingH2Tag)\n",
    "print(\"paragraphTag\",paragraphTag)\n",
    "print(\"anchorTag\",anchorTag)\n",
    "print(\"divTag\",divTag)\n",
    "print(\"navTag\",navTag)\n",
    "print(\"ulTag\",ulTag)\n",
    "print(\"liTag\",liTag)"
   ]
  },
  {
   "cell_type": "code",
   "execution_count": 23,
   "id": "6245ec9f",
   "metadata": {
    "scrolled": true
   },
   "outputs": [],
   "source": [
    "allData = {\"ParagraphTag\" : [paragraphTag],\"HeadingH1Tag\" : [headingH1Tag],\"HeadingH2Tag\" : [headingH2Tag],\"AnchorTag\":[anchorTag],\"DivTag\":[divTag],\"NavTag\":[navTag],\"UlTag\":[ulTag],\"LiTag\":[liTag]}\n",
    "df = pandas.DataFrame(allData)\n",
    "df.to_csv(\"scrapped_data.csv\",index=False)"
   ]
  },
  {
   "cell_type": "code",
   "execution_count": null,
   "id": "1ea2615d",
   "metadata": {},
   "outputs": [],
   "source": []
  }
 ],
 "metadata": {
  "kernelspec": {
   "display_name": "Python 3 (ipykernel)",
   "language": "python",
   "name": "python3"
  },
  "language_info": {
   "codemirror_mode": {
    "name": "ipython",
    "version": 3
   },
   "file_extension": ".py",
   "mimetype": "text/x-python",
   "name": "python",
   "nbconvert_exporter": "python",
   "pygments_lexer": "ipython3",
   "version": "3.9.7"
  }
 },
 "nbformat": 4,
 "nbformat_minor": 5
}
