{
 "cells": [
  {
   "cell_type": "code",
   "execution_count": 7,
   "id": "4b41d0bd",
   "metadata": {},
   "outputs": [
    {
     "name": "stdout",
     "output_type": "stream",
     "text": [
      "Twinkle, twinkle,little star \n",
      " \t How, I wonder what you are \n",
      " \t \t Up above the world so high, \n",
      " \t \t Like a diamond in the sky. \n",
      "Twinkle, twinkle,little star \n",
      " \t How, I wonder what you are\n"
     ]
    }
   ],
   "source": [
    "print('Twinkle, twinkle,little star \\n \\t How, I wonder what you are \\n \\t \\t Up above the world so high, \\n \\t \\t Like a diamond in the sky. \\nTwinkle, twinkle,little star \\n \\t How, I wonder what you are')"
   ]
  },
  {
   "cell_type": "code",
   "execution_count": 2,
   "id": "dfda1a79",
   "metadata": {},
   "outputs": [
    {
     "name": "stdout",
     "output_type": "stream",
     "text": [
      "3.8.8 (default, Apr 13 2021, 15:08:03) [MSC v.1916 64 bit (AMD64)]\n"
     ]
    }
   ],
   "source": [
    "import sys\n",
    "print(sys.version)"
   ]
  },
  {
   "cell_type": "markdown",
   "id": "ae51f099",
   "metadata": {},
   "source": [
    "import datetime\n",
    "current_date = datetime.datetime.now();\n",
    "print('Current Date is: ',current_date)"
   ]
  },
  {
   "cell_type": "code",
   "execution_count": 4,
   "id": "8d846db4",
   "metadata": {},
   "outputs": [
    {
     "name": "stdout",
     "output_type": "stream",
     "text": [
      "Please Enter the Radius of a Circle:12\n",
      "Area of Circle is 452.448\n"
     ]
    }
   ],
   "source": [
    "pie = 3.142\n",
    "radius = float(input('Please Enter the Radius of a Circle:'))\n",
    "compute_area = pie * radius * radius\n",
    "print('Area of Circle is',compute_area)"
   ]
  },
  {
   "cell_type": "code",
   "execution_count": 5,
   "id": "6d28aa11",
   "metadata": {},
   "outputs": [
    {
     "name": "stdout",
     "output_type": "stream",
     "text": [
      "Enter Your First Name:Hassan\n",
      "Enter Your Last Name:Naeem\n",
      "Full Name is:  Hassan meeaN\n"
     ]
    }
   ],
   "source": [
    "first_name = input('Enter Your First Name:')\n",
    "last_name = input('Enter Your Last Name:')\n",
    "full_name = first_name+' '+last_name[::-1]\n",
    "print('Full Name is: ',full_name)"
   ]
  },
  {
   "cell_type": "code",
   "execution_count": 6,
   "id": "ac434b89",
   "metadata": {},
   "outputs": [
    {
     "name": "stdout",
     "output_type": "stream",
     "text": [
      "Enter FIrst Number:10\n",
      "Enter Second Number:10\n",
      "Addition of the input is: 20\n"
     ]
    }
   ],
   "source": [
    "user_first_input = int(input('Enter FIrst Number:'));\n",
    "user_second_input = int(input('Enter Second Number:'));\n",
    "print('Addition of the input is:',user_first_input + user_second_input)"
   ]
  },
  {
   "cell_type": "code",
   "execution_count": null,
   "id": "666d0117",
   "metadata": {},
   "outputs": [],
   "source": []
  }
 ],
 "metadata": {
  "kernelspec": {
   "display_name": "Python 3",
   "language": "python",
   "name": "python3"
  },
  "language_info": {
   "codemirror_mode": {
    "name": "ipython",
    "version": 3
   },
   "file_extension": ".py",
   "mimetype": "text/x-python",
   "name": "python",
   "nbconvert_exporter": "python",
   "pygments_lexer": "ipython3",
   "version": "3.8.8"
  }
 },
 "nbformat": 4,
 "nbformat_minor": 5
}
