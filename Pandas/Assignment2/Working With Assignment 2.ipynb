{
 "cells": [
  {
   "cell_type": "markdown",
   "id": "3df6d17b",
   "metadata": {},
   "source": [
    "### LOC, ILOC & GROUPBY"
   ]
  },
  {
   "cell_type": "code",
   "execution_count": null,
   "id": "aa43fd2d",
   "metadata": {},
   "outputs": [],
   "source": [
    "import pandas as pd;\n",
    "data = pd.read_csv('netflix_data.csv');\n",
    "data.head()"
   ]
  }
 ],
 "metadata": {
  "kernelspec": {
   "display_name": "Python 3",
   "language": "python",
   "name": "python3"
  },
  "language_info": {
   "codemirror_mode": {
    "name": "ipython",
    "version": 3
   },
   "file_extension": ".py",
   "mimetype": "text/x-python",
   "name": "python",
   "nbconvert_exporter": "python",
   "pygments_lexer": "ipython3",
   "version": "3.8.8"
  }
 },
 "nbformat": 4,
 "nbformat_minor": 5
}
